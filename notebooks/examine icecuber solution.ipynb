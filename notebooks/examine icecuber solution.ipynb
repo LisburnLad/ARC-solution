{
 "cells": [
  {
   "cell_type": "markdown",
   "metadata": {},
   "source": [
    "# Introduction\n",
    "\n",
    "Looking at how Ice Cuber's solution tackles the problems."
   ]
  },
  {
   "cell_type": "code",
   "execution_count": 2,
   "metadata": {},
   "outputs": [],
   "source": [
    "import numpy as np\n",
    "import json\n",
    "from glob import glob\n",
    "from pathlib import Path\n",
    "import os\n",
    "import random\n",
    "import matplotlib.pyplot as plt\n",
    "from   matplotlib import colors\n",
    "\n",
    "from subprocess import Popen, PIPE, STDOUT\n",
    "from glob import glob"
   ]
  },
  {
   "cell_type": "markdown",
   "metadata": {},
   "source": [
    "# Helper Functions"
   ]
  },
  {
   "cell_type": "code",
   "execution_count": 3,
   "metadata": {},
   "outputs": [],
   "source": [
    "def get_gridfile_as_numpy( imagefile ):\n",
    "    \"\"\" convert the specified CSV file, containing a grid, to a numpy array \"\"\"\n",
    "    with open(imagefile, 'r') as file:\n",
    "        data = file.read()\n",
    "\n",
    "    arr = []\n",
    "    rows = data.split('\\n')\n",
    "    for row in rows:\n",
    "        list_of_integers = [int(item) for item in row.split(',')]\n",
    "        arr.append(list_of_integers)\n",
    "\n",
    "    return np.array(arr)"
   ]
  },
  {
   "cell_type": "code",
   "execution_count": 5,
   "metadata": {},
   "outputs": [],
   "source": [
    "def mySystem(cmd):\n",
    "    print(cmd)\n",
    "    process = Popen(cmd, stdout=PIPE, stderr=STDOUT, shell=True)\n",
    "    for line in iter(process.stdout.readline, b''):\n",
    "        print(line.decode(\"utf-8\"), end='')\n",
    "    assert(process.wait() == 0)   "
   ]
  },
  {
   "cell_type": "code",
   "execution_count": 6,
   "metadata": {},
   "outputs": [],
   "source": [
    "def load_json(fpath):\n",
    "    with open(fpath) as f:\n",
    "        data = json.load(f)\n",
    "    return data"
   ]
  },
  {
   "cell_type": "code",
   "execution_count": 7,
   "metadata": {},
   "outputs": [],
   "source": [
    "cmap = colors.ListedColormap(\n",
    "    ['#000000', '#0074D9','#FF4136','#2ECC40','#FFDC00',\n",
    "      '#AAAAAA', '#F012BE', '#FF851B', '#7FDBFF', '#870C25'])\n",
    "norm = colors.Normalize(vmin=0, vmax=9)"
   ]
  },
  {
   "cell_type": "code",
   "execution_count": 8,
   "metadata": {},
   "outputs": [],
   "source": [
    "# adapted from: https://www.kaggle.com/code/allegich/arc-2024-starter-notebook-eda\n",
    "def plot_one(task, ax, i,train_or_test, input_or_output):\n",
    "\n",
    "    input_matrix = task[train_or_test][i][input_or_output]\n",
    "    ax.imshow(input_matrix, cmap=cmap, norm=norm)\n",
    "    ax.grid(True,which='both',color='lightgrey', linewidth=0.5)    \n",
    "    \n",
    "    ax.set_yticks([x-0.5 for x in range(1+len(input_matrix))])\n",
    "    ax.set_xticks([x-0.5 for x in range(1+len(input_matrix[0]))])     \n",
    "    ax.set_xticklabels([])\n",
    "    ax.set_yticklabels([])\n",
    "    ax.set_title(train_or_test + ' '+input_or_output)"
   ]
  },
  {
   "cell_type": "code",
   "execution_count": 9,
   "metadata": {},
   "outputs": [],
   "source": [
    "def show_attempts( train_id ):\n",
    "\n",
    "  data = load_json('sub_icecube.json')\n",
    "  \n",
    "  n_samples = 2\n",
    "\n",
    "  name = f'attempt_2'\n",
    "  input_matrix = data[train_id][0][name]\n",
    "  if len(input_matrix) > 0:\n",
    "    fig, axs = plt.subplots(1, n_samples, figsize=(3*n_samples,3*2))\n",
    "    for i in range(n_samples):  \n",
    "\n",
    "      name = f'attempt_{i+1}'\n",
    "      input_matrix = data[train_id][0][name]\n",
    "      if len(input_matrix) > 0 :\n",
    "      \n",
    "        ax = axs[i]\n",
    "        ax.imshow(input_matrix, cmap=cmap, norm=norm)\n",
    "        ax.grid(True,which='both',color='lightgrey', linewidth=0.5)    \n",
    "\n",
    "        ax.set_yticks([x-0.5 for x in range(1+len(input_matrix))])\n",
    "        ax.set_xticks([x-0.5 for x in range(1+len(input_matrix[0]))])     \n",
    "        ax.set_xticklabels([])\n",
    "        ax.set_yticklabels([])\n",
    "        ax.set_title(f\"{train_id} - {name}\")\n",
    "        \n",
    "    plt.tight_layout()\n",
    "    plt.show()\n",
    "\n",
    "  else:\n",
    "    print(\"Only 1 attempt\")\n",
    "    fig, axs = plt.subplots(1, 1, figsize=(2,2))\n",
    "    plot_one(data, axs, 0, train_id, 'attempt_1')\n",
    "    plt.show()  \n",
    "    "
   ]
  },
  {
   "cell_type": "code",
   "execution_count": 10,
   "metadata": {},
   "outputs": [],
   "source": [
    "def plot_sample(sample,train_id):\n",
    "    \"\"\"\n",
    "    Plots the first train and test pairs of a specified task,\n",
    "    using same color scheme as the ARC app\n",
    "    \"\"\"    \n",
    "    n_samples = len(sample['train'])\n",
    "    print('n samples', n_samples)\n",
    "    print('train id %s, n_colors %s, shape in %s shape out %s'  \n",
    "              %(train_id, len(np.unique(sample['train'][0]['input']))-1,\n",
    "               np.array(sample['train'][0]['input']).shape,\n",
    "               np.array(sample['train'][0]['output']).shape))\n",
    "    \n",
    "    fig, axs = plt.subplots(2, n_samples, figsize=(3*n_samples,3*2))\n",
    "    for i in range(n_samples):  \n",
    "        plot_one(sample, axs[0,i],i,'train','input')\n",
    "        plot_one(sample, axs[1,i],i,'train','output')        \n",
    "    plt.tight_layout()\n",
    "    plt.show()\n",
    "    \n",
    "    print('test img colors %s, shape %s'% (np.unique(sample['test'][0]['input']),\n",
    "        np.array(sample['test'][0]['input']).shape))\n",
    "    fig, axs = plt.subplots(1, 1, figsize=(2,2))\n",
    "    plot_one(sample, axs, 0, 'test', 'input')\n",
    "    plt.show()"
   ]
  },
  {
   "cell_type": "code",
   "execution_count": 11,
   "metadata": {},
   "outputs": [],
   "source": [
    "def plot_single(grid_array,title):\n",
    "    \"\"\"\n",
    "    Plots the supplied grid    \n",
    "    \"\"\"        \n",
    "    fig, ax = plt.subplots(1, 1, figsize=(8,4))\n",
    "        \n",
    "    input_matrix = grid_array\n",
    "    ax.imshow(input_matrix, cmap=cmap, norm=norm)\n",
    "    ax.grid(True,which='both',color='lightgrey', linewidth=0.5)    \n",
    "\n",
    "    ax.set_yticks([x-0.5 for x in range(1+len(input_matrix))])\n",
    "    ax.set_xticks([x-0.5 for x in range(1+len(input_matrix[0]))])     \n",
    "    ax.set_xticklabels([])\n",
    "    ax.set_yticklabels([])\n",
    "    ax.set_title(title)\n",
    "\n",
    "    plt.show()"
   ]
  },
  {
   "cell_type": "code",
   "execution_count": 12,
   "metadata": {},
   "outputs": [],
   "source": [
    "# Function to translate from old submission format (csv) to new one (json)\n",
    "def translate_submission(file_path):\n",
    "    # Read the original submission file\n",
    "    with open(file_path, 'r') as file:\n",
    "        lines = file.readlines()\n",
    "\n",
    "    submission_dict = {}\n",
    "\n",
    "    for line in lines[1:]:  # Skip the header line\n",
    "        output_id, output = line.strip().split(',')\n",
    "        task_id, output_idx = output_id.split('_')\n",
    "        predictions = output.split(' ')  # Split predictions based on ' '\n",
    "        \n",
    "        # Take only the first two predictions\n",
    "        if len(predictions) > 2:\n",
    "            predictions = predictions[:2]\n",
    "\n",
    "        processed_predictions = []\n",
    "        for pred in predictions:\n",
    "            if pred:  # Check if pred is not an empty string\n",
    "                pred_lines = pred.split('|')[1:-1]  # Remove empty strings from split\n",
    "                pred_matrix = [list(map(int, line)) for line in pred_lines]\n",
    "                processed_predictions.append(pred_matrix)\n",
    "\n",
    "        attempt_1 = processed_predictions[0] if len(processed_predictions) > 0 else []\n",
    "        attempt_2 = processed_predictions[1] if len(processed_predictions) > 1 else []\n",
    "\n",
    "        if task_id not in submission_dict:\n",
    "            submission_dict[task_id] = []\n",
    "\n",
    "        attempt_dict = {\n",
    "            \"attempt_1\": attempt_1,\n",
    "            \"attempt_2\": attempt_2\n",
    "        }\n",
    "\n",
    "        if output_idx == '0':\n",
    "            submission_dict[task_id].insert(0, attempt_dict)\n",
    "        else:\n",
    "            submission_dict[task_id].append(attempt_dict)\n",
    "    \n",
    "    # Write to the new json file\n",
    "    with open('sub_icecube.json', 'w') as file:\n",
    "        json.dump(submission_dict, file, indent=4)"
   ]
  },
  {
   "cell_type": "markdown",
   "metadata": {},
   "source": [
    "# Test Some Example Problems"
   ]
  },
  {
   "cell_type": "markdown",
   "metadata": {},
   "source": [
    "### Problem 1\n",
    "Result: Fail"
   ]
  },
  {
   "cell_type": "code",
   "execution_count": 12,
   "metadata": {},
   "outputs": [
    {
     "name": "stdout",
     "output_type": "stream",
     "text": [
      "cd ..; python3 safe_run.py dataset/training/0a938d79.json 1\n",
      "make: 'run' is up to date.\n",
      "make: 'count_tasks' is up to date.\n",
      "Number of args = 3\n",
      "Argument 1 = dataset/training/0a938d79.json - integer = False\n",
      "File path = dataset/training/0a938d79.json\n",
      "File name = 0a938d79\n",
      "./run dataset/training/0a938d79.json 3\n",
      "SUCCESS ./run dataset/training/0a938d79.json 3  8.5s 133MB\n",
      "File name = 0a938d79\n",
      "./run dataset/training/0a938d79.json 23\n",
      "SUCCESS ./run dataset/training/0a938d79.json 23  21.6s 247MB\n",
      "File name = 0a938d79\n",
      "./run dataset/training/0a938d79.json 33\n",
      "SUCCESS ./run dataset/training/0a938d79.json 33  24.5s 255MB\n",
      "cp ../submission_part.csv old_submission.csv\n"
     ]
    }
   ],
   "source": [
    "train_id = '0a938d79'\n",
    "filepath = f\"dataset/training/{train_id}.json\"\n",
    "\n",
    "mySystem(f\"cd ..; python3 safe_run.py {filepath} 1\")\n",
    "mySystem(\"cp ../submission_part.csv old_submission.csv\")"
   ]
  },
  {
   "cell_type": "code",
   "execution_count": 13,
   "metadata": {},
   "outputs": [
    {
     "name": "stdout",
     "output_type": "stream",
     "text": [
      "n samples 4\n",
      "train id 0a938d79, n_colors 2, shape in (10, 25) shape out (10, 25)\n"
     ]
    },
    {
     "data": {
      "image/png": "[encoded data removed]",
      "text/plain": [
       "<Figure size 864x432 with 8 Axes>"
      ]
     },
     "metadata": {
      "needs_background": "light"
     },
     "output_type": "display_data"
    },
    {
     "name": "stdout",
     "output_type": "stream",
     "text": [
      "test img colors [0 3 4], shape (11, 27)\n"
     ]
    },
    {
     "data": {
      "image/png": "[encoded data removed]",
      "text/plain": [
       "<Figure size 144x144 with 1 Axes>"
      ]
     },
     "metadata": {
      "needs_background": "light"
     },
     "output_type": "display_data"
    },
    {
     "data": {
      "image/png": "[encoded data removed]",
      "text/plain": [
       "<Figure size 432x432 with 2 Axes>"
      ]
     },
     "metadata": {
      "needs_background": "light"
     },
     "output_type": "display_data"
    }
   ],
   "source": [
    "translate_submission('old_submission.csv')\n",
    "\n",
    "# load and display the predictions\n",
    "data = load_json('../' + filepath)\n",
    "plot_sample(data, train_id)\n",
    "show_attempts( train_id )"
   ]
  },
  {
   "cell_type": "markdown",
   "metadata": {},
   "source": [
    "## Analysis of IceCuber Steps\n",
    "\n",
    "1. Normalises - shifts all colour indexes down, so they are a continuous range starting at 1 e.g. if the grid contains 4 and 7, these will be normalised to 1 and 2"
   ]
  },
  {
   "cell_type": "code",
   "execution_count": 14,
   "metadata": {},
   "outputs": [
    {
     "data": {
      "image/png": "[encoded data removed]",
      "text/plain": [
       "<Figure size 576x288 with 1 Axes>"
      ]
     },
     "metadata": {
      "needs_background": "light"
     },
     "output_type": "display_data"
    },
    {
     "data": {
      "image/png": "[encoded data removed]",
      "text/plain": [
       "<Figure size 576x288 with 1 Axes>"
      ]
     },
     "metadata": {
      "needs_background": "light"
     },
     "output_type": "display_data"
    }
   ],
   "source": [
    "imagefile = \"../store/tmp/s_train_first.csv\"\n",
    "grid_array = get_gridfile_as_numpy( imagefile )\n",
    "plot_single(grid_array,\"input original\")\n",
    "\n",
    "imagefile = \"../store/tmp/train_first.csv\"\n",
    "grid_array = get_gridfile_as_numpy( imagefile )\n",
    "plot_single(grid_array,\"input normalised\")"
   ]
  },
  {
   "cell_type": "code",
   "execution_count": 15,
   "metadata": {},
   "outputs": [
    {
     "data": {
      "image/png": "[encoded data removed]",
      "text/plain": [
       "<Figure size 576x288 with 1 Axes>"
      ]
     },
     "metadata": {
      "needs_background": "light"
     },
     "output_type": "display_data"
    },
    {
     "data": {
      "image/png": "[encoded data removed]",
      "text/plain": [
       "<Figure size 576x288 with 1 Axes>"
      ]
     },
     "metadata": {
      "needs_background": "light"
     },
     "output_type": "display_data"
    }
   ],
   "source": [
    "imagefile = \"../store/tmp/s_train_second.csv\"\n",
    "grid_array = get_gridfile_as_numpy( imagefile )\n",
    "plot_single(grid_array,\"output original\")\n",
    "\n",
    "imagefile = \"../store/tmp/train_second.csv\"\n",
    "grid_array = get_gridfile_as_numpy( imagefile )\n",
    "plot_single(grid_array,\"output normalised\")"
   ]
  },
  {
   "cell_type": "markdown",
   "metadata": {},
   "source": [
    "### Problem 2\n",
    "Result: Fail"
   ]
  },
  {
   "cell_type": "code",
   "execution_count": 16,
   "metadata": {},
   "outputs": [
    {
     "name": "stdout",
     "output_type": "stream",
     "text": [
      "cd ..; python3 safe_run.py dataset/training/a61ba2ce.json 1\n",
      "make: 'run' is up to date.\n",
      "make: 'count_tasks' is up to date.\n",
      "Number of args = 3\n",
      "Argument 1 = dataset/training/a61ba2ce.json - integer = False\n",
      "File path = dataset/training/a61ba2ce.json\n",
      "File name = a61ba2ce\n",
      "./run dataset/training/a61ba2ce.json 3\n",
      "SUCCESS ./run dataset/training/a61ba2ce.json 3  5.0s 166MB\n",
      "File name = a61ba2ce\n",
      "./run dataset/training/a61ba2ce.json 23\n",
      "SUCCESS ./run dataset/training/a61ba2ce.json 23  9.1s 266MB\n",
      "File name = a61ba2ce\n",
      "./run dataset/training/a61ba2ce.json 33\n",
      "SUCCESS ./run dataset/training/a61ba2ce.json 33  8.9s 267MB\n",
      "cp ../submission_part.csv old_submission.csv\n"
     ]
    }
   ],
   "source": [
    "train_id = 'a61ba2ce'\n",
    "filepath = f\"dataset/training/{train_id}.json\"\n",
    "\n",
    "mySystem(f\"cd ..; python3 safe_run.py {filepath} 1\")\n",
    "mySystem(\"cp ../submission_part.csv old_submission.csv\")"
   ]
  },
  {
   "cell_type": "code",
   "execution_count": 17,
   "metadata": {},
   "outputs": [
    {
     "name": "stdout",
     "output_type": "stream",
     "text": [
      "n samples 2\n",
      "train id a61ba2ce, n_colors 4, shape in (13, 13) shape out (4, 4)\n"
     ]
    },
    {
     "data": {
      "image/png": "[encoded data removed]",
      "text/plain": [
       "<Figure size 432x432 with 4 Axes>"
      ]
     },
     "metadata": {
      "needs_background": "light"
     },
     "output_type": "display_data"
    },
    {
     "name": "stdout",
     "output_type": "stream",
     "text": [
      "test img colors [0 1 3 6 8], shape (13, 13)\n"
     ]
    },
    {
     "data": {
      "image/png": "[encoded data removed]",
      "text/plain": [
       "<Figure size 144x144 with 1 Axes>"
      ]
     },
     "metadata": {
      "needs_background": "light"
     },
     "output_type": "display_data"
    },
    {
     "data": {
      "image/png": "[encoded data removed]",
      "text/plain": [
       "<Figure size 432x432 with 2 Axes>"
      ]
     },
     "metadata": {
      "needs_background": "light"
     },
     "output_type": "display_data"
    }
   ],
   "source": [
    "translate_submission('old_submission.csv')\n",
    "\n",
    "# load and display the predictions\n",
    "data = load_json('../' + filepath)\n",
    "plot_sample(data, train_id)\n",
    "show_attempts( train_id )"
   ]
  },
  {
   "cell_type": "code",
   "execution_count": 15,
   "metadata": {},
   "outputs": [
    {
     "data": {
      "image/png": "[encoded data removed]",
      "text/plain": [
       "<Figure size 576x288 with 1 Axes>"
      ]
     },
     "metadata": {
      "needs_background": "light"
     },
     "output_type": "display_data"
    }
   ],
   "source": [
    "imagefile = \"../store/tmp/test_out.csv\"\n",
    "grid_array = get_gridfile_as_numpy( imagefile )\n",
    "plot_single(grid_array,\"output original\")"
   ]
  },
  {
   "cell_type": "code",
   "execution_count": 17,
   "metadata": {},
   "outputs": [
    {
     "data": {
      "image/png": "[encoded data removed]",
      "text/plain": [
       "<Figure size 576x288 with 1 Axes>"
      ]
     },
     "metadata": {
      "needs_background": "light"
     },
     "output_type": "display_data"
    }
   ],
   "source": [
    "imagefile = \"../store/tmp/test_first.csv\"\n",
    "grid_array = get_gridfile_as_numpy( imagefile )\n",
    "plot_single(grid_array,\"output original\")"
   ]
  },
  {
   "cell_type": "code",
   "execution_count": 16,
   "metadata": {},
   "outputs": [
    {
     "data": {
      "image/png": "[encoded data removed]",
      "text/plain": [
       "<Figure size 576x288 with 1 Axes>"
      ]
     },
     "metadata": {
      "needs_background": "light"
     },
     "output_type": "display_data"
    }
   ],
   "source": [
    "imagefile = \"../store/tmp/test_second.csv\"\n",
    "grid_array = get_gridfile_as_numpy( imagefile )\n",
    "plot_single(grid_array,\"output original\")"
   ]
  },
  {
   "cell_type": "code",
   "execution_count": 18,
   "metadata": {},
   "outputs": [
    {
     "data": {
      "image/png": "[encoded data removed]",
      "text/plain": [
       "<Figure size 576x288 with 1 Axes>"
      ]
     },
     "metadata": {
      "needs_background": "light"
     },
     "output_type": "display_data"
    },
    {
     "data": {
      "image/png": "[encoded data removed]",
      "text/plain": [
       "<Figure size 576x288 with 1 Axes>"
      ]
     },
     "metadata": {
      "needs_background": "light"
     },
     "output_type": "display_data"
    }
   ],
   "source": [
    "imagefile = \"../store/tmp/s_train_first.csv\"\n",
    "grid_array = get_gridfile_as_numpy( imagefile )\n",
    "plot_single(grid_array,\"input original\")\n",
    "\n",
    "imagefile = \"../store/tmp/train_first.csv\"\n",
    "grid_array = get_gridfile_as_numpy( imagefile )\n",
    "plot_single(grid_array,\"input normalised\")"
   ]
  },
  {
   "cell_type": "code",
   "execution_count": 19,
   "metadata": {},
   "outputs": [
    {
     "data": {
      "image/png": "[encoded data removed]",
      "text/plain": [
       "<Figure size 576x288 with 1 Axes>"
      ]
     },
     "metadata": {
      "needs_background": "light"
     },
     "output_type": "display_data"
    },
    {
     "data": {
      "image/png": "[encoded data removed]",
      "text/plain": [
       "<Figure size 576x288 with 1 Axes>"
      ]
     },
     "metadata": {
      "needs_background": "light"
     },
     "output_type": "display_data"
    }
   ],
   "source": [
    "imagefile = \"../store/tmp/s_train_second.csv\"\n",
    "grid_array = get_gridfile_as_numpy( imagefile )\n",
    "plot_single(grid_array,\"output original\")\n",
    "\n",
    "imagefile = \"../store/tmp/train_second.csv\"\n",
    "grid_array = get_gridfile_as_numpy( imagefile )\n",
    "plot_single(grid_array,\"output normalised\")"
   ]
  },
  {
   "cell_type": "markdown",
   "metadata": {},
   "source": [
    "### Problem 3\n",
    "\n",
    "Result: Pass"
   ]
  },
  {
   "cell_type": "code",
   "execution_count": 21,
   "metadata": {},
   "outputs": [
    {
     "name": "stdout",
     "output_type": "stream",
     "text": [
      "cd ..; python3 safe_run.py dataset/training/0b148d64.json 1\n",
      "make: 'run' is up to date.\n",
      "make: 'count_tasks' is up to date.\n",
      "Number of args = 3\n",
      "Argument 1 = dataset/training/0b148d64.json - integer = False\n",
      "File path = dataset/training/0b148d64.json\n",
      "File name = 0b148d64\n",
      "./run dataset/training/0b148d64.json 3\n",
      "SUCCESS ./run dataset/training/0b148d64.json 3  13.0s 211MB\n",
      "File name = 0b148d64\n",
      "./run dataset/training/0b148d64.json 23\n",
      "SUCCESS ./run dataset/training/0b148d64.json 23  27.6s 371MB\n",
      "File name = 0b148d64\n",
      "./run dataset/training/0b148d64.json 33\n",
      "SUCCESS ./run dataset/training/0b148d64.json 33  27.2s 370MB\n",
      "cp ../submission_part.csv old_submission.csv\n"
     ]
    }
   ],
   "source": [
    "train_id = '0b148d64'\n",
    "filepath = f\"dataset/training/{train_id}.json\"\n",
    "\n",
    "mySystem(f\"cd ..; python3 safe_run.py {filepath} 1\")\n",
    "mySystem(\"cp ../submission_part.csv old_submission.csv\")"
   ]
  },
  {
   "cell_type": "code",
   "execution_count": 22,
   "metadata": {},
   "outputs": [
    {
     "name": "stdout",
     "output_type": "stream",
     "text": [
      "n samples 3\n",
      "train id 0b148d64, n_colors 2, shape in (21, 21) shape out (10, 10)\n"
     ]
    },
    {
     "data": {
      "image/png": "[encoded data removed]",
      "text/plain": [
       "<Figure size 648x432 with 6 Axes>"
      ]
     },
     "metadata": {
      "needs_background": "light"
     },
     "output_type": "display_data"
    },
    {
     "name": "stdout",
     "output_type": "stream",
     "text": [
      "test img colors [0 1 3], shape (15, 17)\n"
     ]
    },
    {
     "data": {
      "image/png": "[encoded data removed]",
      "text/plain": [
       "<Figure size 144x144 with 1 Axes>"
      ]
     },
     "metadata": {
      "needs_background": "light"
     },
     "output_type": "display_data"
    },
    {
     "name": "stdout",
     "output_type": "stream",
     "text": [
      "Only 1 attempt\n"
     ]
    },
    {
     "data": {
      "image/png": "[encoded data removed]",
      "text/plain": [
       "<Figure size 144x144 with 1 Axes>"
      ]
     },
     "metadata": {
      "needs_background": "light"
     },
     "output_type": "display_data"
    }
   ],
   "source": [
    "translate_submission('old_submission.csv')\n",
    "\n",
    "# load and display the predictions\n",
    "data = load_json('../' + filepath)\n",
    "plot_sample(data, train_id)\n",
    "show_attempts( train_id )"
   ]
  },
  {
   "cell_type": "code",
   "execution_count": 23,
   "metadata": {},
   "outputs": [
    {
     "data": {
      "image/png": "[encoded data removed]",
      "text/plain": [
       "<Figure size 576x288 with 1 Axes>"
      ]
     },
     "metadata": {
      "needs_background": "light"
     },
     "output_type": "display_data"
    },
    {
     "data": {
      "image/png": "[encoded data removed]",
      "text/plain": [
       "<Figure size 576x288 with 1 Axes>"
      ]
     },
     "metadata": {
      "needs_background": "light"
     },
     "output_type": "display_data"
    }
   ],
   "source": [
    "imagefile = \"../store/tmp/s_train_first.csv\"\n",
    "grid_array = get_gridfile_as_numpy( imagefile )\n",
    "plot_single(grid_array,\"input original\")\n",
    "\n",
    "imagefile = \"../store/tmp/train_first.csv\"\n",
    "grid_array = get_gridfile_as_numpy( imagefile )\n",
    "plot_single(grid_array,\"input normalised\")"
   ]
  },
  {
   "cell_type": "code",
   "execution_count": 24,
   "metadata": {},
   "outputs": [
    {
     "data": {
      "image/png": "[encoded data removed]",
      "text/plain": [
       "<Figure size 576x288 with 1 Axes>"
      ]
     },
     "metadata": {
      "needs_background": "light"
     },
     "output_type": "display_data"
    },
    {
     "data": {
      "image/png": "[encoded data removed]",
      "text/plain": [
       "<Figure size 576x288 with 1 Axes>"
      ]
     },
     "metadata": {
      "needs_background": "light"
     },
     "output_type": "display_data"
    }
   ],
   "source": [
    "imagefile = \"../store/tmp/s_train_second.csv\"\n",
    "grid_array = get_gridfile_as_numpy( imagefile )\n",
    "plot_single(grid_array,\"output original\")\n",
    "\n",
    "imagefile = \"../store/tmp/train_second.csv\"\n",
    "grid_array = get_gridfile_as_numpy( imagefile )\n",
    "plot_single(grid_array,\"output normalised\")"
   ]
  }
 ],
 "metadata": {
  "kernelspec": {
   "display_name": "BabyRobotGym",
   "language": "python",
   "name": "babyrobotgym"
  },
  "language_info": {
   "codemirror_mode": {
    "name": "ipython",
    "version": 3
   },
   "file_extension": ".py",
   "mimetype": "text/x-python",
   "name": "python",
   "nbconvert_exporter": "python",
   "pygments_lexer": "ipython3",
   "version": "3.10.11"
  }
 },
 "nbformat": 4,
 "nbformat_minor": 2
}
