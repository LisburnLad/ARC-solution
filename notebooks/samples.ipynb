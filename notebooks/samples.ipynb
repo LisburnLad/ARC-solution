{
 "cells": [
  {
   "cell_type": "markdown",
   "metadata": {},
   "source": [
    "# Introduction\n",
    "\n",
    "Looking at how some sample problems can be solved using the various approaches publicly available."
   ]
  },
  {
   "cell_type": "code",
   "execution_count": 1,
   "metadata": {},
   "outputs": [],
   "source": [
    "import numpy as np\n",
    "import json\n",
    "from glob import glob\n",
    "from pathlib import Path\n",
    "import os\n",
    "import random\n",
    "import matplotlib.pyplot as plt\n",
    "from   matplotlib import colors\n",
    "\n",
    "from subprocess import Popen, PIPE, STDOUT\n",
    "from glob import glob"
   ]
  },
  {
   "cell_type": "markdown",
   "metadata": {},
   "source": [
    "# Helper Functions"
   ]
  },
  {
   "cell_type": "code",
   "execution_count": 2,
   "metadata": {},
   "outputs": [],
   "source": [
    "def mySystem(cmd):\n",
    "    print(cmd)\n",
    "    process = Popen(cmd, stdout=PIPE, stderr=STDOUT, shell=True)\n",
    "    for line in iter(process.stdout.readline, b''):\n",
    "        print(line.decode(\"utf-8\"), end='')\n",
    "    assert(process.wait() == 0)"
   ]
  },
  {
   "cell_type": "code",
   "execution_count": 3,
   "metadata": {},
   "outputs": [],
   "source": [
    "def load_json(fpath):\n",
    "    with open(fpath) as f:\n",
    "        data = json.load(f)\n",
    "    return data"
   ]
  },
  {
   "cell_type": "code",
   "execution_count": 4,
   "metadata": {},
   "outputs": [],
   "source": [
    "# adapted from: https://www.kaggle.com/code/allegich/arc-2024-starter-notebook-eda\n",
    "def plot_one(task, ax, i,train_or_test, input_or_output):\n",
    "    cmap = colors.ListedColormap(\n",
    "        ['#000000', '#0074D9','#FF4136','#2ECC40','#FFDC00',\n",
    "         '#AAAAAA', '#F012BE', '#FF851B', '#7FDBFF', '#870C25'])\n",
    "    norm = colors.Normalize(vmin=0, vmax=9)\n",
    "\n",
    "    input_matrix = task[train_or_test][i][input_or_output]\n",
    "    ax.imshow(input_matrix, cmap=cmap, norm=norm)\n",
    "    ax.grid(True,which='both',color='lightgrey', linewidth=0.5)\n",
    "\n",
    "    ax.set_yticks([x-0.5 for x in range(1+len(input_matrix))])\n",
    "    ax.set_xticks([x-0.5 for x in range(1+len(input_matrix[0]))])\n",
    "    ax.set_xticklabels([])\n",
    "    ax.set_yticklabels([])\n",
    "    ax.set_title(train_or_test + ' '+input_or_output)"
   ]
  },
  {
   "cell_type": "code",
   "execution_count": 5,
   "metadata": {},
   "outputs": [],
   "source": [
    "cmap = colors.ListedColormap(\n",
    "    ['#000000', '#0074D9','#FF4136','#2ECC40','#FFDC00',\n",
    "      '#AAAAAA', '#F012BE', '#FF851B', '#7FDBFF', '#870C25'])\n",
    "norm = colors.Normalize(vmin=0, vmax=9)\n",
    "\n",
    "def show_attempts( train_id ):\n",
    "\n",
    "  data = load_json('sub_icecube.json')\n",
    "\n",
    "  n_samples = 2\n",
    "\n",
    "  name = f'attempt_2'\n",
    "  input_matrix = data[train_id][0][name]\n",
    "  if len(input_matrix) > 0:\n",
    "    fig, axs = plt.subplots(1, n_samples, figsize=(3*n_samples,3*2))\n",
    "    for i in range(n_samples):\n",
    "\n",
    "      name = f'attempt_{i+1}'\n",
    "      input_matrix = data[train_id][0][name]\n",
    "      if len(input_matrix) > 0 :\n",
    "\n",
    "        ax = axs[i]\n",
    "        ax.imshow(input_matrix, cmap=cmap, norm=norm)\n",
    "        ax.grid(True,which='both',color='lightgrey', linewidth=0.5)\n",
    "\n",
    "        ax.set_yticks([x-0.5 for x in range(1+len(input_matrix))])\n",
    "        ax.set_xticks([x-0.5 for x in range(1+len(input_matrix[0]))])\n",
    "        ax.set_xticklabels([])\n",
    "        ax.set_yticklabels([])\n",
    "        ax.set_title(f\"{train_id} - {name}\")\n",
    "\n",
    "    plt.tight_layout()\n",
    "    plt.show()\n",
    "\n",
    "  else:\n",
    "    print(\"Only 1 attempt\")\n",
    "    fig, axs = plt.subplots(1, 1, figsize=(2,2))\n",
    "    plot_one(data, axs, 0, train_id, 'attempt_1')\n",
    "    plt.show()\n"
   ]
  },
  {
   "cell_type": "code",
   "execution_count": 6,
   "metadata": {},
   "outputs": [],
   "source": [
    "def plot_sample(sample,train_id):\n",
    "    \"\"\"\n",
    "    Plots the first train and test pairs of a specified task,\n",
    "    using same color scheme as the ARC app\n",
    "    \"\"\"    \n",
    "    n_samples = len(sample['train'])\n",
    "    print('n samples', n_samples)\n",
    "    print('train id %s, n_colors %s, shape in %s shape out %s'\n",
    "              %(train_id, len(np.unique(sample['train'][0]['input']))-1,\n",
    "               np.array(sample['train'][0]['input']).shape,\n",
    "               np.array(sample['train'][0]['output']).shape))\n",
    "\n",
    "    fig, axs = plt.subplots(2, n_samples, figsize=(3*n_samples,3*2))\n",
    "    for i in range(n_samples):\n",
    "        plot_one(sample, axs[0,i],i,'train','input')\n",
    "        plot_one(sample, axs[1,i],i,'train','output')\n",
    "    plt.tight_layout()\n",
    "    plt.show()\n",
    "\n",
    "    print('test img colors %s, shape %s'% (np.unique(sample['test'][0]['input']),\n",
    "        np.array(sample['test'][0]['input']).shape))\n",
    "    fig, axs = plt.subplots(1, 1, figsize=(2,2))\n",
    "    plot_one(sample, axs, 0, 'test', 'input')\n",
    "    plt.show()"
   ]
  },
  {
   "cell_type": "code",
   "execution_count": 7,
   "metadata": {},
   "outputs": [],
   "source": [
    "# Function to translate from old submission format (csv) to new one (json)\n",
    "def translate_submission(file_path):\n",
    "    # Read the original submission file\n",
    "    with open(file_path, 'r') as file:\n",
    "        lines = file.readlines()\n",
    "\n",
    "    submission_dict = {}\n",
    "\n",
    "    for line in lines[1:]:  # Skip the header line\n",
    "        output_id, output = line.strip().split(',')\n",
    "        task_id, output_idx = output_id.split('_')\n",
    "        predictions = output.split(' ')  # Split predictions based on ' '\n",
    "\n",
    "        # Take only the first two predictions\n",
    "        if len(predictions) > 2:\n",
    "            predictions = predictions[:2]\n",
    "\n",
    "        processed_predictions = []\n",
    "        for pred in predictions:\n",
    "            if pred:  # Check if pred is not an empty string\n",
    "                pred_lines = pred.split('|')[1:-1]  # Remove empty strings from split\n",
    "                pred_matrix = [list(map(int, line)) for line in pred_lines]\n",
    "                processed_predictions.append(pred_matrix)\n",
    "\n",
    "        attempt_1 = processed_predictions[0] if len(processed_predictions) > 0 else []\n",
    "        attempt_2 = processed_predictions[1] if len(processed_predictions) > 1 else []\n",
    "\n",
    "        if task_id not in submission_dict:\n",
    "            submission_dict[task_id] = []\n",
    "\n",
    "        attempt_dict = {\n",
    "            \"attempt_1\": attempt_1,\n",
    "            \"attempt_2\": attempt_2\n",
    "        }\n",
    "\n",
    "        if output_idx == '0':\n",
    "            submission_dict[task_id].insert(0, attempt_dict)\n",
    "        else:\n",
    "            submission_dict[task_id].append(attempt_dict)\n",
    "\n",
    "    # Write to the new json file\n",
    "    with open('sub_icecube.json', 'w') as file:\n",
    "        json.dump(submission_dict, file, indent=4)"
   ]
  },
  {
   "cell_type": "markdown",
   "metadata": {},
   "source": [
    "# Test Some Example Problems"
   ]
  },
  {
   "cell_type": "code",
   "execution_count": 8,
   "metadata": {},
   "outputs": [
    {
     "name": "stdout",
     "output_type": "stream",
     "text": [
      "../dataset/training/0a938d79.json\n",
      "n samples 4\n",
      "train id 0a938d79, n_colors 2, shape in (10, 25) shape out (10, 25)\n"
     ]
    },
    {
     "data": {
      "image/png": "[encoded data removed]",
      "text/plain": [
       "<Figure size 864x432 with 8 Axes>"
      ]
     },
     "metadata": {
      "needs_background": "light"
     },
     "output_type": "display_data"
    },
    {
     "name": "stdout",
     "output_type": "stream",
     "text": [
      "test img colors [0 3 4], shape (11, 27)\n"
     ]
    },
    {
     "data": {
      "image/png": "[encoded data removed]",
      "text/plain": [
       "<Figure size 144x144 with 1 Axes>"
      ]
     },
     "metadata": {
      "needs_background": "light"
     },
     "output_type": "display_data"
    }
   ],
   "source": [
    "train_id = '0a938d79'\n",
    "filepath = f\"../dataset/training/{train_id}.json\"\n",
    "print(filepath)\n",
    "data = load_json(filepath)\n",
    "plot_sample(data, train_id)"
   ]
  },
  {
   "cell_type": "code",
   "execution_count": 9,
   "metadata": {},
   "outputs": [
    {
     "name": "stdout",
     "output_type": "stream",
     "text": [
      "cd ..; python3 safe_run.py dataset/training/0a938d79.json 1\n",
      "g++ -c src/runner.cpp -std=c++17 -g -o obj/runner.o -I headers\n",
      "g++ src/main.cpp obj/read.o obj/core_functions.o obj/image_functions.o obj/image_functions2.o obj/visu.o obj/normalize.o obj/tasks.o obj/runner.o obj/score.o obj/load.o obj/evals.o obj/brute2.o obj/deduce_op.o obj/pieces.o obj/compose2.o obj/brute_size.o obj/efficient.o -std=c++17 -g -lstdc++ -lstdc++fs -o run -I headers\n",
      "g++ src/count_tasks.cpp obj/read.o -std=c++17 -g -lstdc++ -lstdc++fs -o count_tasks -I headers\n",
      "Number of args = 3\n",
      "Argument 1 = dataset/training/0a938d79.json - integer = False\n",
      "File path = dataset/training/0a938d79.json\n",
      "File name = 0a938d79\n",
      "./run dataset/training/0a938d79.json 3\n",
      "SUCCESS ./run dataset/training/0a938d79.json 3  0.4s 5MB\n",
      "File name = 0a938d79\n",
      "./run dataset/training/0a938d79.json 23\n",
      "SUCCESS ./run dataset/training/0a938d79.json 23  0.4s 5MB\n",
      "File name = 0a938d79\n",
      "./run dataset/training/0a938d79.json 33\n",
      "SUCCESS ./run dataset/training/0a938d79.json 33  0.4s 5MB\n",
      "Traceback (most recent call last):\n",
      "  File \"/home/steve/Software/github/kaggle/ARC-solution/safe_run.py\", line 229, in <module>\n",
      "    assert(len(ids) == 1)\n",
      "AssertionError\n"
     ]
    },
    {
     "ename": "AssertionError",
     "evalue": "",
     "output_type": "error",
     "traceback": [
      "\u001b[0;31m---------------------------------------------------------------------------\u001b[0m",
      "\u001b[0;31mAssertionError\u001b[0m                            Traceback (most recent call last)",
      "Input \u001b[0;32mIn [9]\u001b[0m, in \u001b[0;36m<cell line: 4>\u001b[0;34m()\u001b[0m\n\u001b[1;32m      1\u001b[0m train_id \u001b[38;5;241m=\u001b[39m \u001b[38;5;124m'\u001b[39m\u001b[38;5;124m0a938d79\u001b[39m\u001b[38;5;124m'\u001b[39m\n\u001b[1;32m      2\u001b[0m filepath \u001b[38;5;241m=\u001b[39m \u001b[38;5;124mf\u001b[39m\u001b[38;5;124m\"\u001b[39m\u001b[38;5;124mdataset/training/\u001b[39m\u001b[38;5;132;01m{\u001b[39;00mtrain_id\u001b[38;5;132;01m}\u001b[39;00m\u001b[38;5;124m.json\u001b[39m\u001b[38;5;124m\"\u001b[39m\n\u001b[0;32m----> 4\u001b[0m \u001b[43mmySystem\u001b[49m\u001b[43m(\u001b[49m\u001b[38;5;124;43mf\u001b[39;49m\u001b[38;5;124;43m\"\u001b[39;49m\u001b[38;5;124;43mcd ..; python3 safe_run.py \u001b[39;49m\u001b[38;5;132;43;01m{\u001b[39;49;00m\u001b[43mfilepath\u001b[49m\u001b[38;5;132;43;01m}\u001b[39;49;00m\u001b[38;5;124;43m 1\u001b[39;49m\u001b[38;5;124;43m\"\u001b[39;49m\u001b[43m)\u001b[49m\n\u001b[1;32m      5\u001b[0m mySystem(\u001b[38;5;124m\"\u001b[39m\u001b[38;5;124mcp ../submission_part.csv old_submission.csv\u001b[39m\u001b[38;5;124m\"\u001b[39m)\n",
      "Input \u001b[0;32mIn [2]\u001b[0m, in \u001b[0;36mmySystem\u001b[0;34m(cmd)\u001b[0m\n\u001b[1;32m      4\u001b[0m \u001b[38;5;28;01mfor\u001b[39;00m line \u001b[38;5;129;01min\u001b[39;00m \u001b[38;5;28miter\u001b[39m(process\u001b[38;5;241m.\u001b[39mstdout\u001b[38;5;241m.\u001b[39mreadline, \u001b[38;5;124mb\u001b[39m\u001b[38;5;124m'\u001b[39m\u001b[38;5;124m'\u001b[39m):\n\u001b[1;32m      5\u001b[0m     \u001b[38;5;28mprint\u001b[39m(line\u001b[38;5;241m.\u001b[39mdecode(\u001b[38;5;124m\"\u001b[39m\u001b[38;5;124mutf-8\u001b[39m\u001b[38;5;124m\"\u001b[39m), end\u001b[38;5;241m=\u001b[39m\u001b[38;5;124m'\u001b[39m\u001b[38;5;124m'\u001b[39m)\n\u001b[0;32m----> 6\u001b[0m \u001b[38;5;28;01massert\u001b[39;00m(process\u001b[38;5;241m.\u001b[39mwait() \u001b[38;5;241m==\u001b[39m \u001b[38;5;241m0\u001b[39m)\n",
      "\u001b[0;31mAssertionError\u001b[0m: "
     ]
    }
   ],
   "source": [
    "train_id = '0a938d79'\n",
    "filepath = f\"dataset/training/{train_id}.json\"\n",
    "\n",
    "mySystem(f\"cd ..; python3 safe_run.py {filepath} 1\")\n",
    "mySystem(\"cp ../submission_part.csv old_submission.csv\")"
   ]
  },
  {
   "cell_type": "code",
   "execution_count": null,
   "metadata": {},
   "outputs": [
    {
     "name": "stdout",
     "output_type": "stream",
     "text": [
      "n samples 4\n",
      "train id 0a938d79, n_colors 2, shape in (10, 25) shape out (10, 25)\n"
     ]
    },
    {
     "data": {
      "image/png": "[encoded data removed]",
      "text/plain": [
       "<Figure size 864x432 with 8 Axes>"
      ]
     },
     "metadata": {
      "needs_background": "light"
     },
     "output_type": "display_data"
    },
    {
     "name": "stdout",
     "output_type": "stream",
     "text": [
      "test img colors [0 3 4], shape (11, 27)\n"
     ]
    },
    {
     "data": {
      "image/png": "[encoded data removed]",
      "text/plain": [
       "<Figure size 144x144 with 1 Axes>"
      ]
     },
     "metadata": {
      "needs_background": "light"
     },
     "output_type": "display_data"
    },
    {
     "data": {
      "image/png": "[encoded data removed]",
      "text/plain": [
       "<Figure size 432x432 with 2 Axes>"
      ]
     },
     "metadata": {
      "needs_background": "light"
     },
     "output_type": "display_data"
    }
   ],
   "source": [
    "translate_submission('old_submission.csv')\n",
    "\n",
    "# load and display the predictions\n",
    "plot_sample(data, train_id)\n",
    "show_attempts( train_id )"
   ]
  },
  {
   "cell_type": "code",
   "execution_count": null,
   "metadata": {},
   "outputs": [
    {
     "name": "stdout",
     "output_type": "stream",
     "text": [
      "n samples 2\n",
      "train id a61ba2ce, n_colors 4, shape in (13, 13) shape out (4, 4)\n"
     ]
    },
    {
     "data": {
      "image/png": "[encoded data removed]",
      "text/plain": [
       "<Figure size 432x432 with 4 Axes>"
      ]
     },
     "metadata": {
      "needs_background": "light"
     },
     "output_type": "display_data"
    },
    {
     "name": "stdout",
     "output_type": "stream",
     "text": [
      "test img colors [0 1 3 6 8], shape (13, 13)\n"
     ]
    },
    {
     "data": {
      "image/png": "[encoded data removed]",
      "text/plain": [
       "<Figure size 144x144 with 1 Axes>"
      ]
     },
     "metadata": {
      "needs_background": "light"
     },
     "output_type": "display_data"
    }
   ],
   "source": [
    "# the first problem in the data set (index = 0)\n",
    "train_id = 'a61ba2ce'\n",
    "data = load_json(f\"../dataset/training/{train_id}.json\")\n",
    "plot_sample(data, train_id)"
   ]
  },
  {
   "cell_type": "markdown",
   "metadata": {},
   "source": [
    "# IceCuber's C++ Solution"
   ]
  },
  {
   "cell_type": "code",
   "execution_count": 11,
   "metadata": {},
   "outputs": [
    {
     "name": "stdout",
     "output_type": "stream",
     "text": [
      "cd ..; python3 safe_run.py 0 1\n",
      "make: 'run' is up to date.\n",
      "make: 'count_tasks' is up to date.\n",
      "Number of args = 3\n",
      "Argument 1 = 0 - integer = True\n",
      "Task List Length = 1\n",
      "File name = run_0_3\n",
      "./run 0 3\n",
      "SUCCESS ./run 0 3  0.4s 6MB\n",
      "File name = run_0_23\n",
      "./run 0 23\n",
      "SUCCESS ./run 0 23  0.3s 5MB\n",
      "File name = run_0_33\n",
      "./run 0 33\n",
      "SUCCESS ./run 0 33  0.4s 6MB\n",
      "File name = run_0_4\n",
      "./run 0 4\n",
      "SUCCESS ./run 0 4  0.3s 6MB\n",
      "Traceback (most recent call last):\n",
      "  File \"/home/steve/Software/github/kaggle/ARC-solution/safe_run.py\", line 229, in <module>\n",
      "    assert(len(ids) == 1)\n",
      "AssertionError\n"
     ]
    },
    {
     "ename": "AssertionError",
     "evalue": "",
     "output_type": "error",
     "traceback": [
      "\u001b[0;31m---------------------------------------------------------------------------\u001b[0m",
      "\u001b[0;31mAssertionError\u001b[0m                            Traceback (most recent call last)",
      "Input \u001b[0;32mIn [11]\u001b[0m, in \u001b[0;36m<cell line: 4>\u001b[0;34m()\u001b[0m\n\u001b[1;32m      1\u001b[0m \u001b[38;5;66;03m# train_id = 'a61ba2ce'\u001b[39;00m\n\u001b[1;32m      2\u001b[0m \u001b[38;5;66;03m# filepath = f\"dataset/training/{train_id}.json\"\u001b[39;00m\n\u001b[1;32m      3\u001b[0m \u001b[38;5;28mid\u001b[39m \u001b[38;5;241m=\u001b[39m \u001b[38;5;241m0\u001b[39m\n\u001b[0;32m----> 4\u001b[0m \u001b[43mmySystem\u001b[49m\u001b[43m(\u001b[49m\u001b[38;5;124;43mf\u001b[39;49m\u001b[38;5;124;43m\"\u001b[39;49m\u001b[38;5;124;43mcd ..; python3 safe_run.py \u001b[39;49m\u001b[38;5;132;43;01m{\u001b[39;49;00m\u001b[38;5;28;43mid\u001b[39;49m\u001b[38;5;132;43;01m}\u001b[39;49;00m\u001b[38;5;124;43m 1\u001b[39;49m\u001b[38;5;124;43m\"\u001b[39;49m\u001b[43m)\u001b[49m\n\u001b[1;32m      5\u001b[0m mySystem(\u001b[38;5;124m\"\u001b[39m\u001b[38;5;124mcp ../submission_part.csv old_submission.csv\u001b[39m\u001b[38;5;124m\"\u001b[39m)\n\u001b[1;32m      6\u001b[0m translate_submission(\u001b[38;5;124m'\u001b[39m\u001b[38;5;124mold_submission.csv\u001b[39m\u001b[38;5;124m'\u001b[39m)\n",
      "Input \u001b[0;32mIn [2]\u001b[0m, in \u001b[0;36mmySystem\u001b[0;34m(cmd)\u001b[0m\n\u001b[1;32m      4\u001b[0m \u001b[38;5;28;01mfor\u001b[39;00m line \u001b[38;5;129;01min\u001b[39;00m \u001b[38;5;28miter\u001b[39m(process\u001b[38;5;241m.\u001b[39mstdout\u001b[38;5;241m.\u001b[39mreadline, \u001b[38;5;124mb\u001b[39m\u001b[38;5;124m'\u001b[39m\u001b[38;5;124m'\u001b[39m):\n\u001b[1;32m      5\u001b[0m     \u001b[38;5;28mprint\u001b[39m(line\u001b[38;5;241m.\u001b[39mdecode(\u001b[38;5;124m\"\u001b[39m\u001b[38;5;124mutf-8\u001b[39m\u001b[38;5;124m\"\u001b[39m), end\u001b[38;5;241m=\u001b[39m\u001b[38;5;124m'\u001b[39m\u001b[38;5;124m'\u001b[39m)\n\u001b[0;32m----> 6\u001b[0m \u001b[38;5;28;01massert\u001b[39;00m(process\u001b[38;5;241m.\u001b[39mwait() \u001b[38;5;241m==\u001b[39m \u001b[38;5;241m0\u001b[39m)\n",
      "\u001b[0;31mAssertionError\u001b[0m: "
     ]
    }
   ],
   "source": [
    "# train_id = 'a61ba2ce'\n",
    "# filepath = f\"dataset/training/{train_id}.json\"\n",
    "id = 0\n",
    "mySystem(f\"cd ..; python3 safe_run.py {id} 1\")\n",
    "mySystem(\"cp ../submission_part.csv old_submission.csv\")\n",
    "translate_submission('old_submission.csv')\n",
    "\n",
    "# load and display the predictions\n",
    "plot_sample(data, train_id)\n",
    "show_attempts( train_id )"
   ]
  },
  {
   "cell_type": "markdown",
   "metadata": {},
   "source": [
    "### Explicitly referencing the file"
   ]
  },
  {
   "cell_type": "code",
   "execution_count": 14,
   "metadata": {},
   "outputs": [
    {
     "name": "stdout",
     "output_type": "stream",
     "text": [
      "cd ..; python3 safe_run.py dataset/training/a61ba2ce.json 1\n",
      "make: 'run' is up to date.\n",
      "make: 'count_tasks' is up to date.\n",
      "Number of args = 3\n",
      "Argument 1 = dataset/training/a61ba2ce.json - integer = False\n",
      "File path = dataset/training/a61ba2ce.json\n",
      "File name = a61ba2ce\n",
      "./run dataset/training/a61ba2ce.json 3\n",
      "SUCCESS ./run dataset/training/a61ba2ce.json 3  4.9s 165MB\n",
      "File name = a61ba2ce\n",
      "./run dataset/training/a61ba2ce.json 23\n",
      "SUCCESS ./run dataset/training/a61ba2ce.json 23  8.9s 264MB\n",
      "File name = a61ba2ce\n",
      "./run dataset/training/a61ba2ce.json 33\n",
      "SUCCESS ./run dataset/training/a61ba2ce.json 33  8.8s 267MB\n",
      "cp ../submission_part.csv old_submission.csv\n",
      "n samples 2\n",
      "train id a61ba2ce, n_colors 4, shape in (13, 13) shape out (4, 4)\n"
     ]
    },
    {
     "data": {
      "image/png": "[encoded data removed]",
      "text/plain": [
       "<Figure size 432x432 with 4 Axes>"
      ]
     },
     "metadata": {
      "needs_background": "light"
     },
     "output_type": "display_data"
    },
    {
     "name": "stdout",
     "output_type": "stream",
     "text": [
      "test img colors [0 1 3 6 8], shape (13, 13)\n"
     ]
    },
    {
     "data": {
      "image/png": "[encoded data removed]",
      "text/plain": [
       "<Figure size 144x144 with 1 Axes>"
      ]
     },
     "metadata": {
      "needs_background": "light"
     },
     "output_type": "display_data"
    },
    {
     "data": {
      "image/png": "[encoded data removed]",
      "text/plain": [
       "<Figure size 432x432 with 2 Axes>"
      ]
     },
     "metadata": {
      "needs_background": "light"
     },
     "output_type": "display_data"
    }
   ],
   "source": [
    "train_id = 'a61ba2ce'\n",
    "filepath = f\"dataset/training/{train_id}.json\"\n",
    "\n",
    "mySystem(f\"cd ..; python3 safe_run.py {filepath} 1\")\n",
    "mySystem(\"cp ../submission_part.csv old_submission.csv\")\n",
    "translate_submission('old_submission.csv')\n",
    "\n",
    "# load and display the predictions\n",
    "plot_sample(data, train_id)\n",
    "show_attempts( train_id )"
   ]
  },
  {
   "cell_type": "markdown",
   "metadata": {},
   "source": [
    "# Testing With Specific File\n",
    "\n",
    "- altered the C++ code to allow an explicit file to be passed"
   ]
  },
  {
   "cell_type": "code",
   "execution_count": 18,
   "metadata": {},
   "outputs": [
    {
     "name": "stdout",
     "output_type": "stream",
     "text": [
      "../dataset/training/0b148d64.json\n",
      "n samples 3\n",
      "train id 0b148d64, n_colors 2, shape in (21, 21) shape out (10, 10)\n"
     ]
    },
    {
     "data": {
      "image/png": "[encoded data removed]",
      "text/plain": [
       "<Figure size 648x432 with 6 Axes>"
      ]
     },
     "metadata": {
      "needs_background": "light"
     },
     "output_type": "display_data"
    },
    {
     "name": "stdout",
     "output_type": "stream",
     "text": [
      "test img colors [0 1 3], shape (15, 17)\n"
     ]
    },
    {
     "data": {
      "image/png": "[encoded data removed]",
      "text/plain": [
       "<Figure size 144x144 with 1 Axes>"
      ]
     },
     "metadata": {
      "needs_background": "light"
     },
     "output_type": "display_data"
    }
   ],
   "source": [
    "train_id = '0b148d64'\n",
    "filepath = f\"../dataset/training/{train_id}.json\"\n",
    "print(filepath)\n",
    "data = load_json(filepath)\n",
    "plot_sample(data, train_id)"
   ]
  },
  {
   "cell_type": "code",
   "execution_count": 16,
   "metadata": {},
   "outputs": [
    {
     "name": "stdout",
     "output_type": "stream",
     "text": [
      "cd ..; python3 safe_run.py dataset/training/0b148d64.json 1\n",
      "make: 'run' is up to date.\n",
      "make: 'count_tasks' is up to date.\n",
      "Number of args = 3\n",
      "Argument 1 = dataset/training/0b148d64.json - integer = False\n",
      "File path = dataset/training/0b148d64.json\n",
      "File name = 0b148d64\n",
      "./run dataset/training/0b148d64.json 3\n",
      "SUCCESS ./run dataset/training/0b148d64.json 3  12.9s 211MB\n",
      "File name = 0b148d64\n",
      "./run dataset/training/0b148d64.json 23\n",
      "SUCCESS ./run dataset/training/0b148d64.json 23  27.5s 371MB\n",
      "File name = 0b148d64\n",
      "./run dataset/training/0b148d64.json 33\n",
      "SUCCESS ./run dataset/training/0b148d64.json 33  27.4s 370MB\n",
      "cp ../submission_part.csv old_submission.csv\n"
     ]
    }
   ],
   "source": [
    "train_id = '0b148d64'\n",
    "filepath = f\"dataset/training/{train_id}.json\"\n",
    "\n",
    "mySystem(f\"cd ..; python3 safe_run.py {filepath} 1\")\n",
    "mySystem(\"cp ../submission_part.csv old_submission.csv\")"
   ]
  },
  {
   "cell_type": "code",
   "execution_count": 19,
   "metadata": {},
   "outputs": [
    {
     "name": "stdout",
     "output_type": "stream",
     "text": [
      "n samples 3\n",
      "train id 0b148d64, n_colors 2, shape in (21, 21) shape out (10, 10)\n"
     ]
    },
    {
     "data": {
      "image/png": "[encoded data removed]",
      "text/plain": [
       "<Figure size 648x432 with 6 Axes>"
      ]
     },
     "metadata": {
      "needs_background": "light"
     },
     "output_type": "display_data"
    },
    {
     "name": "stdout",
     "output_type": "stream",
     "text": [
      "test img colors [0 1 3], shape (15, 17)\n"
     ]
    },
    {
     "data": {
      "image/png": "[encoded data removed]",
      "text/plain": [
       "<Figure size 144x144 with 1 Axes>"
      ]
     },
     "metadata": {
      "needs_background": "light"
     },
     "output_type": "display_data"
    },
    {
     "name": "stdout",
     "output_type": "stream",
     "text": [
      "Only 1 attempt\n"
     ]
    },
    {
     "data": {
      "image/png": "[encoded data removed]",
      "text/plain": [
       "<Figure size 144x144 with 1 Axes>"
      ]
     },
     "metadata": {
      "needs_background": "light"
     },
     "output_type": "display_data"
    }
   ],
   "source": [
    "translate_submission('old_submission.csv')\n",
    "\n",
    "# load and display the predictions\n",
    "plot_sample(data, train_id)\n",
    "show_attempts( train_id )"
   ]
  }
 ],
 "metadata": {
  "kernelspec": {
   "display_name": "BabyRobotGym",
   "language": "python",
   "name": "babyrobotgym"
  },
  "language_info": {
   "codemirror_mode": {
    "name": "ipython",
    "version": 3
   },
   "file_extension": ".py",
   "mimetype": "text/x-python",
   "name": "python",
   "nbconvert_exporter": "python",
   "pygments_lexer": "ipython3",
   "version": "3.10.11"
  }
 },
 "nbformat": 4,
 "nbformat_minor": 2
}
